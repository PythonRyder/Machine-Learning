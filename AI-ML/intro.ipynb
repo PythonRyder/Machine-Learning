{
 "cells": [
  {
   "cell_type": "code",
   "execution_count": 2,
   "metadata": {},
   "outputs": [
    {
     "name": "stderr",
     "output_type": "stream",
     "text": [
      "c:\\Users\\ashis\\anaconda3\\lib\\site-packages\\scipy\\__init__.py:146: UserWarning: A NumPy version >=1.16.5 and <1.23.0 is required for this version of SciPy (detected version 1.23.2\n",
      "  warnings.warn(f\"A NumPy version >={np_minversion} and <{np_maxversion}\"\n"
     ]
    }
   ],
   "source": [
    "# Import all libraries for this portion of the blog post\n",
    "from scipy.integrate import quad\n",
    "import numpy as np\n",
    "import matplotlib.pyplot as plt\n",
    "import pandas as pd\n",
    "%matplotlib inline\n",
    "\n",
    "from numpy import arange\n",
    "\n"
   ]
  },
  {
   "cell_type": "code",
   "execution_count": 3,
   "metadata": {},
   "outputs": [
    {
     "ename": "SyntaxError",
     "evalue": "invalid syntax (2080893459.py, line 20)",
     "output_type": "error",
     "traceback": [
      "\u001b[1;36m  Input \u001b[1;32mIn [3]\u001b[1;36m\u001b[0m\n\u001b[1;33m    columns=, np.round(np.arange(0.00, 0.1, 0.01), 2))\u001b[0m\n\u001b[1;37m            ^\u001b[0m\n\u001b[1;31mSyntaxError\u001b[0m\u001b[1;31m:\u001b[0m invalid syntax\n"
     ]
    }
   ],
   "source": [
    "\n",
    "\n",
    "x = np.linspace(-4, 4, num = 100)\n",
    "constant = 1.0 / np.sqrt(2*np.pi)\n",
    "pdf_normal_distribution = constant * np.exp((-x**2) / 2.0)\n",
    "fig, ax = plt.subplots(figsize=(10, 5));\n",
    "ax.plot(x, pdf_normal_distribution);\n",
    "ax.set_ylim(0);\n",
    "ax.set_title('Normal Distribution', size = 20);\n",
    "ax.set_ylabel('Probability Density', size = 20);\n",
    "\n",
    "def normalProbabilityDensity(x):\n",
    "    constant = 1.0 / np.sqrt(2*np.pi)\n",
    "    return(constant * np.exp((-x**2) / 2.0) )\n",
    "zoe_percentile, _ = quad(normalProbabilityDensity, np.NINF, 1.25)\n",
    "mike_percentile, _ = quad(normalProbabilityDensity, np.NINF, 1.00)\n",
    "print('Zoe: ', zoe_percentile)\n",
    "print('Mike: ', mike_percentile)\n",
    "\n",
    "std_normal_table = pd.DataFrame(data=[],\n",
    "                                index = np.round(np.arange(0,3.5,0.1), 2),\n",
    "                                columns= np.round(np.arange(0.00, 0.1, 0.01), 2))\n",
    "\n",
    "for index in std_normal_table.index:\n",
    "    for column in std_normal_table.columns:\n",
    "        z = np.round(index + column , 2)\n",
    "        value, _ = quad(normalProbabilityDensity, np.NINF, z)\n",
    "        std_normal_table.loc[index, column] = value\n",
    "\n",
    "std_normal_table.index = std_normal_table.index.astype(str)\n",
    "std_normal_table.columns = [str(column).ljust(4,\"0\") for column in std_normal_table.columns]\n",
    "\n",
    "print(std_normal_table)\n"
   ]
  },
  {
   "cell_type": "code",
   "execution_count": null,
   "metadata": {},
   "outputs": [],
   "source": []
  },
  {
   "cell_type": "code",
   "execution_count": null,
   "metadata": {},
   "outputs": [],
   "source": []
  },
  {
   "cell_type": "code",
   "execution_count": null,
   "metadata": {},
   "outputs": [],
   "source": []
  },
  {
   "cell_type": "code",
   "execution_count": null,
   "metadata": {},
   "outputs": [],
   "source": []
  },
  {
   "cell_type": "code",
   "execution_count": null,
   "metadata": {},
   "outputs": [],
   "source": []
  },
  {
   "cell_type": "code",
   "execution_count": null,
   "metadata": {},
   "outputs": [],
   "source": []
  },
  {
   "cell_type": "code",
   "execution_count": null,
   "metadata": {},
   "outputs": [],
   "source": []
  },
  {
   "cell_type": "code",
   "execution_count": null,
   "metadata": {},
   "outputs": [],
   "source": []
  },
  {
   "cell_type": "code",
   "execution_count": null,
   "metadata": {},
   "outputs": [],
   "source": []
  },
  {
   "cell_type": "code",
   "execution_count": null,
   "metadata": {},
   "outputs": [],
   "source": []
  },
  {
   "cell_type": "code",
   "execution_count": null,
   "metadata": {},
   "outputs": [],
   "source": []
  },
  {
   "cell_type": "code",
   "execution_count": null,
   "metadata": {},
   "outputs": [],
   "source": []
  },
  {
   "cell_type": "code",
   "execution_count": null,
   "metadata": {},
   "outputs": [],
   "source": []
  },
  {
   "cell_type": "code",
   "execution_count": null,
   "metadata": {},
   "outputs": [],
   "source": []
  },
  {
   "cell_type": "code",
   "execution_count": null,
   "metadata": {},
   "outputs": [],
   "source": []
  }
 ],
 "metadata": {
  "kernelspec": {
   "display_name": "Python 3.9.12 ('base')",
   "language": "python",
   "name": "python3"
  },
  "language_info": {
   "codemirror_mode": {
    "name": "ipython",
    "version": 3
   },
   "file_extension": ".py",
   "mimetype": "text/x-python",
   "name": "python",
   "nbconvert_exporter": "python",
   "pygments_lexer": "ipython3",
   "version": "3.9.12"
  },
  "orig_nbformat": 4,
  "vscode": {
   "interpreter": {
    "hash": "892ec26df7909c16895f2faa665477dacb6ec5f5af16b33b2ebfd6a8b8d32d0d"
   }
  }
 },
 "nbformat": 4,
 "nbformat_minor": 2
}
